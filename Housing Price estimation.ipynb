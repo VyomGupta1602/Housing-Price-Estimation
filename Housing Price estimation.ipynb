{
 "cells": [
  {
   "cell_type": "code",
   "execution_count": 166,
   "id": "49738619",
   "metadata": {},
   "outputs": [],
   "source": [
    "import copy, math\n",
    "import numpy as np\n",
    "import matplotlib.pyplot as plt\n",
    "import pandas as pd"
   ]
  },
  {
   "cell_type": "code",
   "execution_count": 167,
   "id": "ebd9ebcb",
   "metadata": {},
   "outputs": [],
   "source": [
    "dataset=pd.read_csv(\"HousingPrice.csv\")"
   ]
  },
  {
   "cell_type": "code",
   "execution_count": 168,
   "id": "b18e2622",
   "metadata": {},
   "outputs": [
    {
     "data": {
      "text/html": [
       "<div>\n",
       "<style scoped>\n",
       "    .dataframe tbody tr th:only-of-type {\n",
       "        vertical-align: middle;\n",
       "    }\n",
       "\n",
       "    .dataframe tbody tr th {\n",
       "        vertical-align: top;\n",
       "    }\n",
       "\n",
       "    .dataframe thead th {\n",
       "        text-align: right;\n",
       "    }\n",
       "</style>\n",
       "<table border=\"1\" class=\"dataframe\">\n",
       "  <thead>\n",
       "    <tr style=\"text-align: right;\">\n",
       "      <th></th>\n",
       "      <th>price</th>\n",
       "      <th>area</th>\n",
       "      <th>bedrooms</th>\n",
       "      <th>bathrooms</th>\n",
       "      <th>stories</th>\n",
       "      <th>mainroad</th>\n",
       "      <th>guestroom</th>\n",
       "      <th>basement</th>\n",
       "      <th>furnishingstatus</th>\n",
       "    </tr>\n",
       "  </thead>\n",
       "  <tbody>\n",
       "    <tr>\n",
       "      <th>0</th>\n",
       "      <td>13300000</td>\n",
       "      <td>7420</td>\n",
       "      <td>4</td>\n",
       "      <td>2</td>\n",
       "      <td>3</td>\n",
       "      <td>yes</td>\n",
       "      <td>no</td>\n",
       "      <td>no</td>\n",
       "      <td>furnished</td>\n",
       "    </tr>\n",
       "    <tr>\n",
       "      <th>1</th>\n",
       "      <td>12250000</td>\n",
       "      <td>8960</td>\n",
       "      <td>4</td>\n",
       "      <td>4</td>\n",
       "      <td>4</td>\n",
       "      <td>yes</td>\n",
       "      <td>no</td>\n",
       "      <td>no</td>\n",
       "      <td>furnished</td>\n",
       "    </tr>\n",
       "    <tr>\n",
       "      <th>2</th>\n",
       "      <td>12250000</td>\n",
       "      <td>9960</td>\n",
       "      <td>3</td>\n",
       "      <td>2</td>\n",
       "      <td>2</td>\n",
       "      <td>yes</td>\n",
       "      <td>no</td>\n",
       "      <td>yes</td>\n",
       "      <td>unfurnished</td>\n",
       "    </tr>\n",
       "    <tr>\n",
       "      <th>3</th>\n",
       "      <td>12215000</td>\n",
       "      <td>7500</td>\n",
       "      <td>4</td>\n",
       "      <td>2</td>\n",
       "      <td>2</td>\n",
       "      <td>yes</td>\n",
       "      <td>no</td>\n",
       "      <td>yes</td>\n",
       "      <td>furnished</td>\n",
       "    </tr>\n",
       "    <tr>\n",
       "      <th>4</th>\n",
       "      <td>11410000</td>\n",
       "      <td>7420</td>\n",
       "      <td>4</td>\n",
       "      <td>1</td>\n",
       "      <td>2</td>\n",
       "      <td>yes</td>\n",
       "      <td>yes</td>\n",
       "      <td>yes</td>\n",
       "      <td>furnished</td>\n",
       "    </tr>\n",
       "  </tbody>\n",
       "</table>\n",
       "</div>"
      ],
      "text/plain": [
       "      price  area  bedrooms  bathrooms  stories mainroad guestroom basement  \\\n",
       "0  13300000  7420         4          2        3      yes        no       no   \n",
       "1  12250000  8960         4          4        4      yes        no       no   \n",
       "2  12250000  9960         3          2        2      yes        no      yes   \n",
       "3  12215000  7500         4          2        2      yes        no      yes   \n",
       "4  11410000  7420         4          1        2      yes       yes      yes   \n",
       "\n",
       "  furnishingstatus  \n",
       "0        furnished  \n",
       "1        furnished  \n",
       "2      unfurnished  \n",
       "3        furnished  \n",
       "4        furnished  "
      ]
     },
     "execution_count": 168,
     "metadata": {},
     "output_type": "execute_result"
    }
   ],
   "source": [
    "dataset.head()"
   ]
  },
  {
   "cell_type": "code",
   "execution_count": 196,
   "id": "fd235fb1",
   "metadata": {},
   "outputs": [
    {
     "name": "stdout",
     "output_type": "stream",
     "text": [
      "<class 'pandas.core.frame.DataFrame'>\n",
      "RangeIndex: 545 entries, 0 to 544\n",
      "Data columns (total 9 columns):\n",
      " #   Column            Non-Null Count  Dtype\n",
      "---  ------            --------------  -----\n",
      " 0   price             545 non-null    int64\n",
      " 1   area              545 non-null    int64\n",
      " 2   bedrooms          545 non-null    int64\n",
      " 3   bathrooms         545 non-null    int64\n",
      " 4   stories           545 non-null    int64\n",
      " 5   mainroad          545 non-null    int64\n",
      " 6   guestroom         545 non-null    int64\n",
      " 7   basement          545 non-null    int64\n",
      " 8   furnishingstatus  545 non-null    int64\n",
      "dtypes: int64(9)\n",
      "memory usage: 38.4 KB\n"
     ]
    }
   ],
   "source": [
    "dataset.info()"
   ]
  },
  {
   "cell_type": "code",
   "execution_count": 197,
   "id": "e9121908",
   "metadata": {},
   "outputs": [],
   "source": [
    "from sklearn.preprocessing import LabelEncoder\n",
    "for x in dataset:\n",
    "    dataset[\"mainroad\"] = LabelEncoder().fit_transform(dataset[\"mainroad\"])\n",
    "    dataset[\"guestroom\"] = LabelEncoder().fit_transform(dataset[\"guestroom\"])\n",
    "    dataset[\"basement\"] = LabelEncoder().fit_transform(dataset[\"basement\"])\n",
    "    dataset[\"furnishingstatus\"] = LabelEncoder().fit_transform(dataset[\"furnishingstatus\"])"
   ]
  },
  {
   "cell_type": "code",
   "execution_count": 198,
   "id": "574aa75d",
   "metadata": {},
   "outputs": [
    {
     "data": {
      "text/html": [
       "<div>\n",
       "<style scoped>\n",
       "    .dataframe tbody tr th:only-of-type {\n",
       "        vertical-align: middle;\n",
       "    }\n",
       "\n",
       "    .dataframe tbody tr th {\n",
       "        vertical-align: top;\n",
       "    }\n",
       "\n",
       "    .dataframe thead th {\n",
       "        text-align: right;\n",
       "    }\n",
       "</style>\n",
       "<table border=\"1\" class=\"dataframe\">\n",
       "  <thead>\n",
       "    <tr style=\"text-align: right;\">\n",
       "      <th></th>\n",
       "      <th>price</th>\n",
       "      <th>area</th>\n",
       "      <th>bedrooms</th>\n",
       "      <th>bathrooms</th>\n",
       "      <th>stories</th>\n",
       "      <th>mainroad</th>\n",
       "      <th>guestroom</th>\n",
       "      <th>basement</th>\n",
       "      <th>furnishingstatus</th>\n",
       "    </tr>\n",
       "  </thead>\n",
       "  <tbody>\n",
       "    <tr>\n",
       "      <th>0</th>\n",
       "      <td>13300000</td>\n",
       "      <td>7420</td>\n",
       "      <td>4</td>\n",
       "      <td>2</td>\n",
       "      <td>3</td>\n",
       "      <td>1</td>\n",
       "      <td>0</td>\n",
       "      <td>0</td>\n",
       "      <td>0</td>\n",
       "    </tr>\n",
       "    <tr>\n",
       "      <th>1</th>\n",
       "      <td>12250000</td>\n",
       "      <td>8960</td>\n",
       "      <td>4</td>\n",
       "      <td>4</td>\n",
       "      <td>4</td>\n",
       "      <td>1</td>\n",
       "      <td>0</td>\n",
       "      <td>0</td>\n",
       "      <td>0</td>\n",
       "    </tr>\n",
       "    <tr>\n",
       "      <th>2</th>\n",
       "      <td>12250000</td>\n",
       "      <td>9960</td>\n",
       "      <td>3</td>\n",
       "      <td>2</td>\n",
       "      <td>2</td>\n",
       "      <td>1</td>\n",
       "      <td>0</td>\n",
       "      <td>1</td>\n",
       "      <td>1</td>\n",
       "    </tr>\n",
       "    <tr>\n",
       "      <th>3</th>\n",
       "      <td>12215000</td>\n",
       "      <td>7500</td>\n",
       "      <td>4</td>\n",
       "      <td>2</td>\n",
       "      <td>2</td>\n",
       "      <td>1</td>\n",
       "      <td>0</td>\n",
       "      <td>1</td>\n",
       "      <td>0</td>\n",
       "    </tr>\n",
       "    <tr>\n",
       "      <th>4</th>\n",
       "      <td>11410000</td>\n",
       "      <td>7420</td>\n",
       "      <td>4</td>\n",
       "      <td>1</td>\n",
       "      <td>2</td>\n",
       "      <td>1</td>\n",
       "      <td>1</td>\n",
       "      <td>1</td>\n",
       "      <td>0</td>\n",
       "    </tr>\n",
       "  </tbody>\n",
       "</table>\n",
       "</div>"
      ],
      "text/plain": [
       "      price  area  bedrooms  bathrooms  stories  mainroad  guestroom  \\\n",
       "0  13300000  7420         4          2        3         1          0   \n",
       "1  12250000  8960         4          4        4         1          0   \n",
       "2  12250000  9960         3          2        2         1          0   \n",
       "3  12215000  7500         4          2        2         1          0   \n",
       "4  11410000  7420         4          1        2         1          1   \n",
       "\n",
       "   basement  furnishingstatus  \n",
       "0         0                 0  \n",
       "1         0                 0  \n",
       "2         1                 1  \n",
       "3         1                 0  \n",
       "4         1                 0  "
      ]
     },
     "execution_count": 198,
     "metadata": {},
     "output_type": "execute_result"
    }
   ],
   "source": [
    "dataset.head()"
   ]
  },
  {
   "cell_type": "code",
   "execution_count": 199,
   "id": "c8f3d778",
   "metadata": {},
   "outputs": [
    {
     "data": {
      "text/plain": [
       "(545, 9)"
      ]
     },
     "execution_count": 199,
     "metadata": {},
     "output_type": "execute_result"
    }
   ],
   "source": [
    "dataset.shape"
   ]
  },
  {
   "cell_type": "code",
   "execution_count": 200,
   "id": "aeb884c1",
   "metadata": {},
   "outputs": [],
   "source": [
    "x=dataset.iloc[:,1:].values\n",
    "y=dataset.iloc[:,0].values"
   ]
  },
  {
   "cell_type": "code",
   "execution_count": 201,
   "id": "f6195c29",
   "metadata": {},
   "outputs": [
    {
     "data": {
      "text/plain": [
       "array([[7420,    4,    2, ...,    0,    0,    0],\n",
       "       [8960,    4,    4, ...,    0,    0,    0],\n",
       "       [9960,    3,    2, ...,    0,    1,    1],\n",
       "       ...,\n",
       "       [3620,    2,    1, ...,    0,    0,    1],\n",
       "       [2910,    3,    1, ...,    0,    0,    0],\n",
       "       [3850,    3,    1, ...,    0,    0,    1]], dtype=int64)"
      ]
     },
     "execution_count": 201,
     "metadata": {},
     "output_type": "execute_result"
    }
   ],
   "source": [
    "(x)"
   ]
  },
  {
   "cell_type": "code",
   "execution_count": 202,
   "id": "27fbf182",
   "metadata": {},
   "outputs": [
    {
     "data": {
      "text/plain": [
       "array([13300000, 12250000, 12250000, 12215000, 11410000, 10850000,\n",
       "       10150000, 10150000,  9870000,  9800000,  9800000,  9681000,\n",
       "        9310000,  9240000,  9240000,  9100000,  9100000,  8960000,\n",
       "        8890000,  8855000,  8750000,  8680000,  8645000,  8645000,\n",
       "        8575000,  8540000,  8463000,  8400000,  8400000,  8400000,\n",
       "        8400000,  8400000,  8295000,  8190000,  8120000,  8080940,\n",
       "        8043000,  7980000,  7962500,  7910000,  7875000,  7840000,\n",
       "        7700000,  7700000,  7560000,  7560000,  7525000,  7490000,\n",
       "        7455000,  7420000,  7420000,  7420000,  7350000,  7350000,\n",
       "        7350000,  7350000,  7343000,  7245000,  7210000,  7210000,\n",
       "        7140000,  7070000,  7070000,  7035000,  7000000,  6930000,\n",
       "        6930000,  6895000,  6860000,  6790000,  6790000,  6755000,\n",
       "        6720000,  6685000,  6650000,  6650000,  6650000,  6650000,\n",
       "        6650000,  6650000,  6629000,  6615000,  6615000,  6580000,\n",
       "        6510000,  6510000,  6510000,  6475000,  6475000,  6440000,\n",
       "        6440000,  6419000,  6405000,  6300000,  6300000,  6300000,\n",
       "        6300000,  6300000,  6293000,  6265000,  6230000,  6230000,\n",
       "        6195000,  6195000,  6195000,  6160000,  6160000,  6125000,\n",
       "        6107500,  6090000,  6090000,  6090000,  6083000,  6083000,\n",
       "        6020000,  6020000,  6020000,  5950000,  5950000,  5950000,\n",
       "        5950000,  5950000,  5950000,  5950000,  5950000,  5943000,\n",
       "        5880000,  5880000,  5873000,  5873000,  5866000,  5810000,\n",
       "        5810000,  5810000,  5803000,  5775000,  5740000,  5740000,\n",
       "        5740000,  5740000,  5740000,  5652500,  5600000,  5600000,\n",
       "        5600000,  5600000,  5600000,  5600000,  5600000,  5600000,\n",
       "        5600000,  5565000,  5565000,  5530000,  5530000,  5530000,\n",
       "        5523000,  5495000,  5495000,  5460000,  5460000,  5460000,\n",
       "        5460000,  5425000,  5390000,  5383000,  5320000,  5285000,\n",
       "        5250000,  5250000,  5250000,  5250000,  5250000,  5250000,\n",
       "        5250000,  5250000,  5250000,  5243000,  5229000,  5215000,\n",
       "        5215000,  5215000,  5145000,  5145000,  5110000,  5110000,\n",
       "        5110000,  5110000,  5075000,  5040000,  5040000,  5040000,\n",
       "        5040000,  5033000,  5005000,  4970000,  4970000,  4956000,\n",
       "        4935000,  4907000,  4900000,  4900000,  4900000,  4900000,\n",
       "        4900000,  4900000,  4900000,  4900000,  4900000,  4900000,\n",
       "        4900000,  4900000,  4893000,  4893000,  4865000,  4830000,\n",
       "        4830000,  4830000,  4830000,  4795000,  4795000,  4767000,\n",
       "        4760000,  4760000,  4760000,  4753000,  4690000,  4690000,\n",
       "        4690000,  4690000,  4690000,  4690000,  4655000,  4620000,\n",
       "        4620000,  4620000,  4620000,  4620000,  4613000,  4585000,\n",
       "        4585000,  4550000,  4550000,  4550000,  4550000,  4550000,\n",
       "        4550000,  4550000,  4543000,  4543000,  4515000,  4515000,\n",
       "        4515000,  4515000,  4480000,  4480000,  4480000,  4480000,\n",
       "        4480000,  4473000,  4473000,  4473000,  4445000,  4410000,\n",
       "        4410000,  4403000,  4403000,  4403000,  4382000,  4375000,\n",
       "        4340000,  4340000,  4340000,  4340000,  4340000,  4319000,\n",
       "        4305000,  4305000,  4277000,  4270000,  4270000,  4270000,\n",
       "        4270000,  4270000,  4270000,  4235000,  4235000,  4200000,\n",
       "        4200000,  4200000,  4200000,  4200000,  4200000,  4200000,\n",
       "        4200000,  4200000,  4200000,  4200000,  4200000,  4200000,\n",
       "        4200000,  4200000,  4200000,  4200000,  4193000,  4193000,\n",
       "        4165000,  4165000,  4165000,  4130000,  4130000,  4123000,\n",
       "        4098500,  4095000,  4095000,  4095000,  4060000,  4060000,\n",
       "        4060000,  4060000,  4060000,  4025000,  4025000,  4025000,\n",
       "        4007500,  4007500,  3990000,  3990000,  3990000,  3990000,\n",
       "        3990000,  3920000,  3920000,  3920000,  3920000,  3920000,\n",
       "        3920000,  3920000,  3885000,  3885000,  3850000,  3850000,\n",
       "        3850000,  3850000,  3850000,  3850000,  3850000,  3836000,\n",
       "        3815000,  3780000,  3780000,  3780000,  3780000,  3780000,\n",
       "        3780000,  3773000,  3773000,  3773000,  3745000,  3710000,\n",
       "        3710000,  3710000,  3710000,  3710000,  3703000,  3703000,\n",
       "        3675000,  3675000,  3675000,  3675000,  3640000,  3640000,\n",
       "        3640000,  3640000,  3640000,  3640000,  3640000,  3640000,\n",
       "        3640000,  3633000,  3605000,  3605000,  3570000,  3570000,\n",
       "        3570000,  3570000,  3535000,  3500000,  3500000,  3500000,\n",
       "        3500000,  3500000,  3500000,  3500000,  3500000,  3500000,\n",
       "        3500000,  3500000,  3500000,  3500000,  3500000,  3500000,\n",
       "        3500000,  3500000,  3493000,  3465000,  3465000,  3465000,\n",
       "        3430000,  3430000,  3430000,  3430000,  3430000,  3430000,\n",
       "        3423000,  3395000,  3395000,  3395000,  3360000,  3360000,\n",
       "        3360000,  3360000,  3360000,  3360000,  3360000,  3360000,\n",
       "        3353000,  3332000,  3325000,  3325000,  3290000,  3290000,\n",
       "        3290000,  3290000,  3290000,  3290000,  3290000,  3290000,\n",
       "        3255000,  3255000,  3234000,  3220000,  3220000,  3220000,\n",
       "        3220000,  3150000,  3150000,  3150000,  3150000,  3150000,\n",
       "        3150000,  3150000,  3150000,  3150000,  3143000,  3129000,\n",
       "        3118850,  3115000,  3115000,  3115000,  3087000,  3080000,\n",
       "        3080000,  3080000,  3080000,  3045000,  3010000,  3010000,\n",
       "        3010000,  3010000,  3010000,  3010000,  3010000,  3003000,\n",
       "        2975000,  2961000,  2940000,  2940000,  2940000,  2940000,\n",
       "        2940000,  2940000,  2940000,  2940000,  2870000,  2870000,\n",
       "        2870000,  2870000,  2852500,  2835000,  2835000,  2835000,\n",
       "        2800000,  2800000,  2730000,  2730000,  2695000,  2660000,\n",
       "        2660000,  2660000,  2660000,  2660000,  2660000,  2660000,\n",
       "        2653000,  2653000,  2604000,  2590000,  2590000,  2590000,\n",
       "        2520000,  2520000,  2520000,  2485000,  2485000,  2450000,\n",
       "        2450000,  2450000,  2450000,  2450000,  2450000,  2408000,\n",
       "        2380000,  2380000,  2380000,  2345000,  2310000,  2275000,\n",
       "        2275000,  2275000,  2240000,  2233000,  2135000,  2100000,\n",
       "        2100000,  2100000,  1960000,  1890000,  1890000,  1855000,\n",
       "        1820000,  1767150,  1750000,  1750000,  1750000], dtype=int64)"
      ]
     },
     "execution_count": 202,
     "metadata": {},
     "output_type": "execute_result"
    }
   ],
   "source": [
    "y"
   ]
  },
  {
   "cell_type": "code",
   "execution_count": 203,
   "id": "53d4d4d3",
   "metadata": {},
   "outputs": [
    {
     "data": {
      "text/plain": [
       "price               0\n",
       "area                0\n",
       "bedrooms            0\n",
       "bathrooms           0\n",
       "stories             0\n",
       "mainroad            0\n",
       "guestroom           0\n",
       "basement            0\n",
       "furnishingstatus    0\n",
       "dtype: int64"
      ]
     },
     "execution_count": 203,
     "metadata": {},
     "output_type": "execute_result"
    }
   ],
   "source": [
    "dataset.isna().sum()"
   ]
  },
  {
   "cell_type": "code",
   "execution_count": 204,
   "id": "5f1842dd",
   "metadata": {},
   "outputs": [
    {
     "data": {
      "text/plain": [
       "array([[<Axes: title={'center': 'price'}>,\n",
       "        <Axes: title={'center': 'area'}>,\n",
       "        <Axes: title={'center': 'bedrooms'}>],\n",
       "       [<Axes: title={'center': 'bathrooms'}>,\n",
       "        <Axes: title={'center': 'stories'}>,\n",
       "        <Axes: title={'center': 'mainroad'}>],\n",
       "       [<Axes: title={'center': 'guestroom'}>,\n",
       "        <Axes: title={'center': 'basement'}>,\n",
       "        <Axes: title={'center': 'furnishingstatus'}>]], dtype=object)"
      ]
     },
     "execution_count": 204,
     "metadata": {},
     "output_type": "execute_result"
    },
    {
     "data": {
      "image/png": "[encoded data removed]",
      "text/plain": [
       "<Figure size 1000x1000 with 9 Axes>"
      ]
     },
     "metadata": {},
     "output_type": "display_data"
    }
   ],
   "source": [
    "dataset.hist(bins=10, figsize=(10, 10))"
   ]
  },
  {
   "cell_type": "code",
   "execution_count": 205,
   "id": "4ddfb68a",
   "metadata": {},
   "outputs": [],
   "source": [
    "from sklearn.model_selection import train_test_split\n",
    "x_train, x_test, y_train, y_test = train_test_split(x, y, test_size = 0.25, random_state = 0)"
   ]
  },
  {
   "cell_type": "code",
   "execution_count": 211,
   "id": "3d5fe402",
   "metadata": {},
   "outputs": [],
   "source": [
    "b_init = 909.909840909\n",
    "w_init = np.array([ 0.39133572,0.39133535, 18.39133535, 0.10003020, 0.42131618, 0.39133535, 0.10003020, 0.42131618])"
   ]
  },
  {
   "cell_type": "code",
   "execution_count": 214,
   "id": "918cb058",
   "metadata": {},
   "outputs": [],
   "source": [
    "def compute_cost(x, y, w, b): \n",
    "    m = x.shape[0]\n",
    "    cost = 0.0\n",
    "    for i in range(m):\n",
    "        f_wb_i = np.dot(x[i], w) + b\n",
    "        cost = cost + (f_wb_i - y[i])**2\n",
    "    cost = cost / (2 * m)    \n",
    "    return cost"
   ]
  },
  {
   "cell_type": "code",
   "execution_count": 215,
   "id": "7d7bd23a",
   "metadata": {},
   "outputs": [
    {
     "name": "stdout",
     "output_type": "stream",
     "text": [
      "13353346324298.469\n"
     ]
    }
   ],
   "source": [
    "cost = compute_cost(x_train, y_train, w_init, b_init)\n",
    "print(cost)"
   ]
  },
  {
   "cell_type": "code",
   "execution_count": 219,
   "id": "ec934b39",
   "metadata": {},
   "outputs": [],
   "source": [
    "def dwdb(x, y, w, b): \n",
    "    m = x.shape[0]\n",
    "    dj_dw = np.zeros((n,))\n",
    "    c=0.0\n",
    "    for i in range(m):                                \n",
    "        f_wb_i = np.dot(x[i], w)+b\n",
    "        for j in range(n):\n",
    "            dj_dw[j] = dj_dw[j]+(f_wb_i-y[i])*x[i,j]\n",
    "        c+=(f_wb_i - y[i])\n",
    "    dj_dw =  dj_dw/ (m)\n",
    "    c=c/(m)\n",
    "    return dj_dw,c"
   ]
  },
  {
   "cell_type": "code",
   "execution_count": 220,
   "id": "bc8c440f",
   "metadata": {},
   "outputs": [],
   "source": [
    "def gradient_descent(X, y, w_in, b_in, cost_function, gradient_function, alpha, num_iters): \n",
    "    J_history = []\n",
    "    w = w_in.copy()\n",
    "    b = b_in\n",
    "    for i in range(num_iters):\n",
    "        dj_db,dj_dw = gradient_function(X, y, w, b)\n",
    "        w=w-alpha*dj_dw\n",
    "        b=b-alpha*dj_db      \n",
    "        if i<100000:\n",
    "            J_history.append( cost_function(X, y, w, b))\n",
    "        if i% math.ceil(num_iters / 10) == 0:\n",
    "            print(f\"Iteration {i:4d}: Cost {J_history[-1]:8.2f}   \")\n",
    "    return w, b, J_history"
   ]
  },
  {
   "cell_type": "code",
   "execution_count": 234,
   "id": "905ace32",
   "metadata": {},
   "outputs": [
    {
     "name": "stdout",
     "output_type": "stream",
     "text": [
      "Iteration    0: Cost 4629415499395.88   \n",
      "Iteration  100: Cost 1664107146998.18   \n",
      "Iteration  200: Cost 1664089419542.41   \n",
      "Iteration  300: Cost 1664071692523.23   \n",
      "Iteration  400: Cost 1664053965940.63   \n",
      "Iteration  500: Cost 1664036239794.60   \n",
      "Iteration  600: Cost 1664018514085.13   \n",
      "Iteration  700: Cost 1664000788812.21   \n",
      "Iteration  800: Cost 1663983063975.82   \n",
      "Iteration  900: Cost 1663965339575.96   \n",
      "b,w found by gradient descent: 15.34,[882.28439695  62.51811989  36.52582778  55.06189717  14.20958023\n",
      "   8.22053637  12.32476198   6.6619177 ] \n"
     ]
    }
   ],
   "source": [
    "initial_w = np.zeros_like(w_init)\n",
    "initial_b = 0.\n",
    "iterations = 1000\n",
    "alpha = 5.0e-8\n",
    "w_final, b_final, J_hist = gradient_descent(x_train, y_train, initial_w, initial_b,compute_cost, compute_gradient, alpha, iterations)\n",
    "print(f\"b,w found by gradient descent: {b_final:0.2f},{w_final} \")\n",
    "m,n= x_test.shape\n",
    "ypred2=[]\n",
    "for i in range(m):\n",
    "    ypred2.append(np.dot(x_test[i], w_final)+b_final)"
   ]
  },
  {
   "cell_type": "code",
   "execution_count": 235,
   "id": "34687bda",
   "metadata": {},
   "outputs": [
    {
     "data": {
      "image/png": "[encoded data removed]",
      "text/plain": [
       "<Figure size 1200x400 with 2 Axes>"
      ]
     },
     "metadata": {},
     "output_type": "display_data"
    }
   ],
   "source": [
    "fig, (ax1, ax2) = plt.subplots(1, 2, constrained_layout=True, figsize=(12, 4))\n",
    "ax1.plot(J_hist)\n",
    "ax2.plot(100 + np.arange(len(J_hist[100:])), J_hist[100:])\n",
    "ax1.set_title(\"Cost vs. iteration\");  ax2.set_title(\"Cost vs. iteration (tail)\")\n",
    "ax1.set_ylabel('Cost')             ;  ax2.set_ylabel('Cost') \n",
    "ax1.set_xlabel('iteration step')   ;  ax2.set_xlabel('iteration step') \n",
    "plt.show()"
   ]
  },
  {
   "cell_type": "code",
   "execution_count": 236,
   "id": "67a01d34",
   "metadata": {},
   "outputs": [
    {
     "data": {
      "text/plain": [
       "[3529501.3406306556,\n",
       " 8487896.914373336,\n",
       " 3053136.946313428,\n",
       " 11646412.537346473,\n",
       " 3229579.616123866,\n",
       " 5602969.481732372,\n",
       " 3397110.2811081833,\n",
       " 3070705.906552376,\n",
       " 3098835.636818063,\n",
       " 7941132.493139452,\n",
       " 5294285.964197079,\n",
       " 3494209.9647525214,\n",
       " 3044263.9089859873,\n",
       " 5346972.681755754,\n",
       " 5280799.79336558,\n",
       " 2144252.227854181,\n",
       " 4323513.766448471,\n",
       " 5311667.422496969,\n",
       " 2735450.1604720782,\n",
       " 3970525.95909028,\n",
       " 7190990.259133756,\n",
       " 5691106.784313047,\n",
       " 4411792.399501713,\n",
       " 1500253.8895556328,\n",
       " 5664703.62983463,\n",
       " 2779561.6124492665,\n",
       " 6176318.456273238,\n",
       " 5011754.00996637,\n",
       " 2911994.3010985507,\n",
       " 5664586.8441225905,\n",
       " 3882304.181312645,\n",
       " 2007622.4797009828,\n",
       " 7411579.894441482,\n",
       " 3564681.798409436,\n",
       " 2753095.8484111456,\n",
       " 5682164.351097493,\n",
       " 5294151.639336934,\n",
       " 2678998.168647297,\n",
       " 3044064.8241693685,\n",
       " 1919345.3138265947,\n",
       " 7499927.776542888,\n",
       " 5205945.515889148,\n",
       " 5117766.566686522,\n",
       " 4848480.438858435,\n",
       " 3105956.4301135754,\n",
       " 5294168.384180024,\n",
       " 3670638.989462075,\n",
       " 3564681.798409436,\n",
       " 3570105.4095701887,\n",
       " 5029350.298852545,\n",
       " 4270626.895989175,\n",
       " 8529533.269329056,\n",
       " 1456137.784889709,\n",
       " 3397047.7629882977,\n",
       " 5188147.606923499,\n",
       " 5046974.647188245,\n",
       " 7279301.615407378,\n",
       " 4094232.5347183906,\n",
       " 3176476.6637499584,\n",
       " 6176373.518170407,\n",
       " 11381777.411618374,\n",
       " 5823567.023873106,\n",
       " 1884069.9184778933,\n",
       " 5294216.784159493,\n",
       " 2329462.7711768,\n",
       " 2485864.278700619,\n",
       " 6313117.284165164,\n",
       " 3891112.8157019448,\n",
       " 3970600.801972143,\n",
       " 5558707.053643909,\n",
       " 1892876.109044154,\n",
       " 4853089.468136887,\n",
       " 3176544.844714121,\n",
       " 3759000.9897038983,\n",
       " 3335363.462397083,\n",
       " 2532484.661169527,\n",
       " 3017893.8789749458,\n",
       " 7570561.966572372,\n",
       " 2567742.076474092,\n",
       " 3529390.4225313016,\n",
       " 1892876.109044154,\n",
       " 6781573.773119614,\n",
       " 3979584.4137042155,\n",
       " 6310461.759827639,\n",
       " 4058941.1588402563,\n",
       " 2859089.440880859,\n",
       " 3017720.5341955232,\n",
       " 5117522.882345696,\n",
       " 2779571.927982279,\n",
       " 3595644.8157210397,\n",
       " 6550380.50623925,\n",
       " 7940880.588262253,\n",
       " 3211761.3777103922,\n",
       " 2779483.326130475,\n",
       " 1892926.7530123545,\n",
       " 7905914.168916886,\n",
       " 1906102.8273359216,\n",
       " 5779432.258727088,\n",
       " 6855595.93712776,\n",
       " 7411435.107208375,\n",
       " 9264455.626692852,\n",
       " 3070768.4246722613,\n",
       " 2459389.411073901,\n",
       " 2647235.930356976,\n",
       " 5664721.168982734,\n",
       " 4588304.340789554,\n",
       " 5346908.605017196,\n",
       " 3970587.6829051496,\n",
       " 5382292.3629252985,\n",
       " 3194122.3516890253,\n",
       " 3529390.4225313016,\n",
       " 2682383.191875844,\n",
       " 3176476.6637499584,\n",
       " 8699639.506797865,\n",
       " 3501260.6922656153,\n",
       " 3388342.499035819,\n",
       " 8646864.769361874,\n",
       " 3211768.0396280927,\n",
       " 3105942.7625834513,\n",
       " 11646530.11736353,\n",
       " 2382399.834994002,\n",
       " 3794410.739904103,\n",
       " 3970518.4114277465,\n",
       " 4407437.284329424,\n",
       " 2707983.648967725,\n",
       " 3840120.41881559,\n",
       " 7835098.048352803,\n",
       " 11420604.58700202,\n",
       " 6317483.959785775,\n",
       " 3176781.798126669,\n",
       " 5867569.8750111265,\n",
       " 3573497.980461269,\n",
       " 2647353.5103740306,\n",
       " 3211768.0396280927,\n",
       " 4729414.782404922,\n",
       " 14293575.733274663,\n",
       " 5258805.9658752885]"
      ]
     },
     "execution_count": 236,
     "metadata": {},
     "output_type": "execute_result"
    }
   ],
   "source": [
    "ypred2"
   ]
  },
  {
   "cell_type": "code",
   "execution_count": 237,
   "id": "f03b7238",
   "metadata": {},
   "outputs": [
    {
     "data": {
      "text/plain": [
       "array([ 4585000,  6083000,  4007500,  6930000,  2940000,  6195000,\n",
       "        3535000,  2940000,  3500000,  7980000,  6755000,  3990000,\n",
       "        3150000,  3290000,  4130000,  2660000,  4410000,  3710000,\n",
       "        3360000,  4270000,  5005000,  5383000,  6440000,  1890000,\n",
       "        6125000,  5460000,  5803000,  4620000,  5530000,  5950000,\n",
       "        4305000,  3640000,  5250000,  3325000,  3703000,  4753000,\n",
       "        9100000,  3500000,  3150000,  4270000,  8960000,  4060000,\n",
       "        5740000,  3129000,  3633000,  7560000,  4620000,  3290000,\n",
       "        4165000,  6650000,  4165000,  4690000,  3150000,  3850000,\n",
       "        3290000,  5075000,  6510000,  5740000,  3780000,  4795000,\n",
       "        4900000,  5460000,  3500000,  7525000,  2835000,  5495000,\n",
       "        8680000,  4200000,  4200000,  4900000,  3332000,  6195000,\n",
       "        4098500,  6650000,  3885000,  4620000,  1960000,  6440000,\n",
       "        1750000,  3605000,  3290000,  4970000,  4613000,  3850000,\n",
       "        3500000,  6107500,  3780000,  4900000,  3570000,  4340000,\n",
       "        3500000,  6300000,  3395000,  3815000,  3920000, 12250000,\n",
       "        3080000,  9310000,  4270000,  3780000,  5600000,  3290000,\n",
       "        2380000,  5110000,  6650000,  5810000,  4123000,  3080000,\n",
       "        5530000,  1750000,  2695000,  2870000,  2590000,  4515000,\n",
       "        4410000,  4585000,  5250000,  3570000,  3640000,  9800000,\n",
       "        2940000,  6083000,  3255000,  4893000,  3150000,  2975000,\n",
       "        6930000,  3500000,  5880000,  3500000,  4235000,  3710000,\n",
       "        4060000,  2345000,  4550000, 10150000,  3640000], dtype=int64)"
      ]
     },
     "execution_count": 237,
     "metadata": {},
     "output_type": "execute_result"
    }
   ],
   "source": [
    "y_test"
   ]
  },
  {
   "cell_type": "code",
   "execution_count": 206,
   "id": "72270bd4",
   "metadata": {},
   "outputs": [
    {
     "data": {
      "text/html": [
       "<style>#sk-container-id-7 {color: black;background-color: white;}#sk-container-id-7 pre{padding: 0;}#sk-container-id-7 div.sk-toggleable {background-color: white;}#sk-container-id-7 label.sk-toggleable__label {cursor: pointer;display: block;width: 100%;margin-bottom: 0;padding: 0.3em;box-sizing: border-box;text-align: center;}#sk-container-id-7 label.sk-toggleable__label-arrow:before {content: \"▸\";float: left;margin-right: 0.25em;color: #696969;}#sk-container-id-7 label.sk-toggleable__label-arrow:hover:before {color: black;}#sk-container-id-7 div.sk-estimator:hover label.sk-toggleable__label-arrow:before {color: black;}#sk-container-id-7 div.sk-toggleable__content {max-height: 0;max-width: 0;overflow: hidden;text-align: left;background-color: #f0f8ff;}#sk-container-id-7 div.sk-toggleable__content pre {margin: 0.2em;color: black;border-radius: 0.25em;background-color: #f0f8ff;}#sk-container-id-7 input.sk-toggleable__control:checked~div.sk-toggleable__content {max-height: 200px;max-width: 100%;overflow: auto;}#sk-container-id-7 input.sk-toggleable__control:checked~label.sk-toggleable__label-arrow:before {content: \"▾\";}#sk-container-id-7 div.sk-estimator input.sk-toggleable__control:checked~label.sk-toggleable__label {background-color: #d4ebff;}#sk-container-id-7 div.sk-label input.sk-toggleable__control:checked~label.sk-toggleable__label {background-color: #d4ebff;}#sk-container-id-7 input.sk-hidden--visually {border: 0;clip: rect(1px 1px 1px 1px);clip: rect(1px, 1px, 1px, 1px);height: 1px;margin: -1px;overflow: hidden;padding: 0;position: absolute;width: 1px;}#sk-container-id-7 div.sk-estimator {font-family: monospace;background-color: #f0f8ff;border: 1px dotted black;border-radius: 0.25em;box-sizing: border-box;margin-bottom: 0.5em;}#sk-container-id-7 div.sk-estimator:hover {background-color: #d4ebff;}#sk-container-id-7 div.sk-parallel-item::after {content: \"\";width: 100%;border-bottom: 1px solid gray;flex-grow: 1;}#sk-container-id-7 div.sk-label:hover label.sk-toggleable__label {background-color: #d4ebff;}#sk-container-id-7 div.sk-serial::before {content: \"\";position: absolute;border-left: 1px solid gray;box-sizing: border-box;top: 0;bottom: 0;left: 50%;z-index: 0;}#sk-container-id-7 div.sk-serial {display: flex;flex-direction: column;align-items: center;background-color: white;padding-right: 0.2em;padding-left: 0.2em;position: relative;}#sk-container-id-7 div.sk-item {position: relative;z-index: 1;}#sk-container-id-7 div.sk-parallel {display: flex;align-items: stretch;justify-content: center;background-color: white;position: relative;}#sk-container-id-7 div.sk-item::before, #sk-container-id-7 div.sk-parallel-item::before {content: \"\";position: absolute;border-left: 1px solid gray;box-sizing: border-box;top: 0;bottom: 0;left: 50%;z-index: -1;}#sk-container-id-7 div.sk-parallel-item {display: flex;flex-direction: column;z-index: 1;position: relative;background-color: white;}#sk-container-id-7 div.sk-parallel-item:first-child::after {align-self: flex-end;width: 50%;}#sk-container-id-7 div.sk-parallel-item:last-child::after {align-self: flex-start;width: 50%;}#sk-container-id-7 div.sk-parallel-item:only-child::after {width: 0;}#sk-container-id-7 div.sk-dashed-wrapped {border: 1px dashed gray;margin: 0 0.4em 0.5em 0.4em;box-sizing: border-box;padding-bottom: 0.4em;background-color: white;}#sk-container-id-7 div.sk-label label {font-family: monospace;font-weight: bold;display: inline-block;line-height: 1.2em;}#sk-container-id-7 div.sk-label-container {text-align: center;}#sk-container-id-7 div.sk-container {/* jupyter's `normalize.less` sets `[hidden] { display: none; }` but bootstrap.min.css set `[hidden] { display: none !important; }` so we also need the `!important` here to be able to override the default hidden behavior on the sphinx rendered scikit-learn.org. See: https://github.com/scikit-learn/scikit-learn/issues/21755 */display: inline-block !important;position: relative;}#sk-container-id-7 div.sk-text-repr-fallback {display: none;}</style><div id=\"sk-container-id-7\" class=\"sk-top-container\"><div class=\"sk-text-repr-fallback\"><pre>LinearRegression()</pre><b>In a Jupyter environment, please rerun this cell to show the HTML representation or trust the notebook. <br />On GitHub, the HTML representation is unable to render, please try loading this page with nbviewer.org.</b></div><div class=\"sk-container\" hidden><div class=\"sk-item\"><div class=\"sk-estimator sk-toggleable\"><input class=\"sk-toggleable__control sk-hidden--visually\" id=\"sk-estimator-id-7\" type=\"checkbox\" checked><label for=\"sk-estimator-id-7\" class=\"sk-toggleable__label sk-toggleable__label-arrow\">LinearRegression</label><div class=\"sk-toggleable__content\"><pre>LinearRegression()</pre></div></div></div></div></div>"
      ],
      "text/plain": [
       "LinearRegression()"
      ]
     },
     "execution_count": 206,
     "metadata": {},
     "output_type": "execute_result"
    }
   ],
   "source": [
    "from sklearn.linear_model import LinearRegression\n",
    "Regression = LinearRegression()\n",
    "Regression.fit(x_train, y_train)"
   ]
  },
  {
   "cell_type": "code",
   "execution_count": 207,
   "id": "ea95812c",
   "metadata": {},
   "outputs": [],
   "source": [
    "y_pred = Regression.predict(x_test)"
   ]
  },
  {
   "cell_type": "code",
   "execution_count": 209,
   "id": "2a0d81f8",
   "metadata": {},
   "outputs": [
    {
     "data": {
      "text/plain": [
       "array([ 4260237.12243919,  6298881.98784387,  3968898.41792428,\n",
       "        7325536.08692192,  3388571.68653583,  7272922.13712766,\n",
       "        3348123.14061415,  3070351.52414203,  2973389.64489254,\n",
       "        8485469.64748818,  7060401.91989973,  4245929.94944481,\n",
       "        4246403.13053695,  5521116.50586652,  4646687.88896961,\n",
       "        2188355.90295325,  4511200.26766419,  4124287.27555935,\n",
       "        3469352.77047575,  3678806.57086361,  7086769.89847281,\n",
       "        6478715.04621159,  4265886.69428888,  3085544.92225241,\n",
       "        5815143.05545604,  5650403.02718496,  5009732.40370204,\n",
       "        5004681.54971597,  6533017.94512741,  5154308.14829335,\n",
       "        3291008.88536781,  3797642.86413291,  6512488.70311426,\n",
       "        3162244.32841838,  3476506.35697294,  4020674.70808127,\n",
       "        5412323.29284785,  4098323.8900451 ,  3049405.39584201,\n",
       "        3634072.30950328,  8052792.10113933,  5894826.12066123,\n",
       "        6735028.17100874,  4471425.01978844,  3230088.9634105 ,\n",
       "        6300131.70589438,  4489496.03562356,  3162244.32841838,\n",
       "        4459580.00815323,  5392351.94891708,  4208658.00231136,\n",
       "        8389639.64829007,  2950717.74942942,  3094285.25669507,\n",
       "        4074212.17007901,  4269577.92426866,  7456939.93983818,\n",
       "        4390960.02125853,  3004865.42548018,  5516164.7337883 ,\n",
       "        6937150.7836028 ,  7292637.15894587,  3759406.18886564,\n",
       "        7158593.78899049,  2361660.43026451,  5639703.42965172,\n",
       "        6730878.97023757,  2642723.08225605,  4467563.84456304,\n",
       "        4224437.48652002,  4131661.36460509,  7123297.28807348,\n",
       "        4145652.45218946,  5425175.23447161,  4606172.33834411,\n",
       "        4280684.15272193,  3556566.53248862,  8746350.91145343,\n",
       "        2712071.73189566,  3147937.155424  ,  4131661.36460509,\n",
       "        5750673.33507828,  6049514.45546684,  5387642.35439645,\n",
       "        4376652.84826415,  4396641.29654145,  3446915.47709173,\n",
       "        4822252.24447411,  4491129.08608893,  4459093.2930105 ,\n",
       "        3974606.45130177,  6077120.80643095,  3371202.3514844 ,\n",
       "        3897099.87937307,  4697170.52208777, 10811429.18781319,\n",
       "        3133134.20510778,  6244260.88839995,  4848417.96315429,\n",
       "        5073755.9378158 ,  7657094.22159512,  3324189.40806111,\n",
       "        5250343.34196335,  4085447.43435016,  6802386.77534523,\n",
       "        4843854.88934705,  4419675.95441499,  3833209.14794003,\n",
       "        6209984.12099799,  3012019.01197737,  3147937.155424  ,\n",
       "        2152702.40719848,  3004865.42548018,  5497775.88301997,\n",
       "        3244899.03467348,  3850978.67745182,  7902291.60871604,\n",
       "        3019172.59847456,  4681303.82593146,  8085806.30092727,\n",
       "        2383121.18975608,  6299187.928314  ,  2674914.2214934 ,\n",
       "        5716556.59793745,  2814937.70397977,  3636085.77933863,\n",
       "        7710764.97419377,  6600858.92088678,  5066961.09567957,\n",
       "        4526649.29124278,  5351630.49482972,  3517850.87467681,\n",
       "        4845717.64835551,  3019172.59847456,  4394651.25123832,\n",
       "       11119837.61387326,  5639751.15045699])"
      ]
     },
     "execution_count": 209,
     "metadata": {},
     "output_type": "execute_result"
    }
   ],
   "source": [
    "y_pred"
   ]
  },
  {
   "cell_type": "code",
   "execution_count": 210,
   "id": "5e5fa7b9",
   "metadata": {},
   "outputs": [
    {
     "data": {
      "text/plain": [
       "array([ 4585000,  6083000,  4007500,  6930000,  2940000,  6195000,\n",
       "        3535000,  2940000,  3500000,  7980000,  6755000,  3990000,\n",
       "        3150000,  3290000,  4130000,  2660000,  4410000,  3710000,\n",
       "        3360000,  4270000,  5005000,  5383000,  6440000,  1890000,\n",
       "        6125000,  5460000,  5803000,  4620000,  5530000,  5950000,\n",
       "        4305000,  3640000,  5250000,  3325000,  3703000,  4753000,\n",
       "        9100000,  3500000,  3150000,  4270000,  8960000,  4060000,\n",
       "        5740000,  3129000,  3633000,  7560000,  4620000,  3290000,\n",
       "        4165000,  6650000,  4165000,  4690000,  3150000,  3850000,\n",
       "        3290000,  5075000,  6510000,  5740000,  3780000,  4795000,\n",
       "        4900000,  5460000,  3500000,  7525000,  2835000,  5495000,\n",
       "        8680000,  4200000,  4200000,  4900000,  3332000,  6195000,\n",
       "        4098500,  6650000,  3885000,  4620000,  1960000,  6440000,\n",
       "        1750000,  3605000,  3290000,  4970000,  4613000,  3850000,\n",
       "        3500000,  6107500,  3780000,  4900000,  3570000,  4340000,\n",
       "        3500000,  6300000,  3395000,  3815000,  3920000, 12250000,\n",
       "        3080000,  9310000,  4270000,  3780000,  5600000,  3290000,\n",
       "        2380000,  5110000,  6650000,  5810000,  4123000,  3080000,\n",
       "        5530000,  1750000,  2695000,  2870000,  2590000,  4515000,\n",
       "        4410000,  4585000,  5250000,  3570000,  3640000,  9800000,\n",
       "        2940000,  6083000,  3255000,  4893000,  3150000,  2975000,\n",
       "        6930000,  3500000,  5880000,  3500000,  4235000,  3710000,\n",
       "        4060000,  2345000,  4550000, 10150000,  3640000], dtype=int64)"
      ]
     },
     "execution_count": 210,
     "metadata": {},
     "output_type": "execute_result"
    }
   ],
   "source": [
    "y_test"
   ]
  },
  {
   "cell_type": "code",
   "execution_count": null,
   "id": "c5d59893",
   "metadata": {},
   "outputs": [],
   "source": []
  },
  {
   "cell_type": "code",
   "execution_count": null,
   "id": "d567ca0c",
   "metadata": {},
   "outputs": [],
   "source": []
  }
 ],
 "metadata": {
  "kernelspec": {
   "display_name": "Python 3 (ipykernel)",
   "language": "python",
   "name": "python3"
  },
  "language_info": {
   "codemirror_mode": {
    "name": "ipython",
    "version": 3
   },
   "file_extension": ".py",
   "mimetype": "text/x-python",
   "name": "python",
   "nbconvert_exporter": "python",
   "pygments_lexer": "ipython3",
   "version": "3.10.9"
  }
 },
 "nbformat": 4,
 "nbformat_minor": 5
}
